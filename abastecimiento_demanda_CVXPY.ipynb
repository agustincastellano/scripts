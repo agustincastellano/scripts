{
  "nbformat": 4,
  "nbformat_minor": 0,
  "metadata": {
    "colab": {
      "name": "abastecimientoCVXPY.ipynb",
      "version": "0.3.2",
      "provenance": [],
      "include_colab_link": true
    },
    "kernelspec": {
      "name": "python3",
      "display_name": "Python 3"
    }
  },
  "cells": [
    {
      "cell_type": "markdown",
      "metadata": {
        "id": "view-in-github",
        "colab_type": "text"
      },
      "source": [
        "<a href=\"https://colab.research.google.com/github/opf-ute/scripts/blob/master/abastecimiento_demanda_CVXPY.ipynb\" target=\"_parent\"><img src=\"https://colab.research.google.com/assets/colab-badge.svg\" alt=\"Open In Colab\"/></a>"
      ]
    },
    {
      "metadata": {
        "id": "EU1m59VBVIdC",
        "colab_type": "text"
      },
      "cell_type": "markdown",
      "source": [
        "\n",
        "# Primeros pasos con CVXPY\n",
        "Resolviendo un QP con [CVXPY](https://www.cvxpy.org/index.html).\n"
      ]
    },
    {
      "metadata": {
        "id": "4tLZzlM6YEnV",
        "colab_type": "text"
      },
      "cell_type": "markdown",
      "source": [
        "# Abastecimiento de la demanda con restricciones\n",
        "\n",
        "Dada una demanda $D$ que puede abastecerse a partir de dos oferentes obteniendo $x_1$ y $x_2$ de cada uno de ellos, a igual costo $\\Phi_i(x_i)=\\frac{x_i^2}{2}$, queremos minimizar el costo bajo la restricción de que $x_1\\leq C$.   \n",
        "\n",
        "\n",
        "Planteamos entonces,   \n",
        "  $$ \\begin{align}\n",
        "     \\min_{x\\in \\mathbb R^2}   & \\frac{\\|x\\|^2}{2}\\\\\n",
        "     \\textrm{tal que: } & x\\geq 0\\\\\n",
        "     &x_1+x_2=D\\\\\n",
        "     &x_1=C\n",
        "     \\end{align}\n",
        " $$\n",
        "\n",
        "El siguiente código resuelve este problema en CVXPY.\n",
        "Se ejecuta con la flecha de arriba a la izquierda y los resultados aparecen más abajo."
      ]
    },
    {
      "metadata": {
        "id": "qVIafmVHUukA",
        "colab_type": "code",
        "outputId": "1fa0d142-be85-4f93-ee39-d98ddf4171fe",
        "colab": {
          "base_uri": "https://localhost:8080/",
          "height": 103
        }
      },
      "cell_type": "code",
      "source": [
        "# Import packages.\n",
        "import cvxpy as cp\n",
        "import numpy as np\n",
        "\n",
        "# Generate data.\n",
        "n = 2\n",
        "D=10\n",
        "C=3\n",
        "# Define and solve the CVXPY problem.\n",
        "x = cp.Variable(n)\n",
        "cost = cp.sum_squares(x)\n",
        "constraints = [ x[1]+x[0]>=D, 0<=x, x[1]<=C]\n",
        "prob = cp.Problem(cp.Minimize(cost),constraints)\n",
        "prob.solve()\n",
        "\n",
        "# Print result.\n",
        "print(\"\\nThe optimal value is\", prob.value)\n",
        "print(\"The optimal x is\")\n",
        "print(x.value)\n",
        "print(constraints[0].dual_value)"
      ],
      "execution_count": 0,
      "outputs": [
        {
          "output_type": "stream",
          "text": [
            "\n",
            "The optimal value is 58.0\n",
            "The optimal x is\n",
            "[7. 3.]\n",
            "14.000000000000002\n"
          ],
          "name": "stdout"
        }
      ]
    }
  ]
}