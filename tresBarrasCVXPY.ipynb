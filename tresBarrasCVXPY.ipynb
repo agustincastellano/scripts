{
  "nbformat": 4,
  "nbformat_minor": 0,
  "metadata": {
    "colab": {
      "name": "tresBarrasCVXPY.ipynb",
      "version": "0.3.2",
      "provenance": [],
      "include_colab_link": true
    },
    "kernelspec": {
      "name": "python3",
      "display_name": "Python 3"
    }
  },
  "cells": [
    {
      "cell_type": "markdown",
      "metadata": {
        "id": "view-in-github",
        "colab_type": "text"
      },
      "source": [
        "<a href=\"https://colab.research.google.com/github/opf-ute/scripts/blob/master/tresBarrasCVXPY.ipynb\" target=\"_parent\"><img src=\"https://colab.research.google.com/assets/colab-badge.svg\" alt=\"Open In Colab\"/></a>"
      ]
    },
    {
      "metadata": {
        "id": "fyHK-cAGeFGw",
        "colab_type": "text"
      },
      "cell_type": "markdown",
      "source": [
        "Se quiere resolver el problema de flujo óptimo con tres barras\n",
        "\n",
        "El problema de optimización que modela esta red es \n",
        "\n",
        "\n",
        "\\begin{align}\n",
        "\\min_{(\\mathbf p,\\mathbf g)}&\\   c_1 g_1 +c_2 g_2  \\\\\n",
        "\\textrm{sujeto a: }& p_1=g_1\\ &(\\lambda_1)\\\\\n",
        "& p_2=g_2-d_2& (\\lambda_2)\\\\\n",
        "&p_3 = -d_3&  (\\lambda_3)\\\\\n",
        "&p_3+p_1+p_2=0&  (\\nu)\\\\\n",
        "&|p_2-p_3|\\leq 3*R&  (\\mu_{1},\\mu_{2})\\\\\n",
        "& g\\geq 0 &  (\\mu_{3}) \n",
        "\\end{align}\n",
        "\n",
        "\n",
        "donde $R=40MW$, $ d_3=30MW$ y  $d_2=170$.\n",
        "\n"
      ]
    },
    {
      "metadata": {
        "colab_type": "code",
        "id": "ZxNP2uruteMQ",
        "colab": {}
      },
      "cell_type": "code",
      "source": [
        "# Import packages.\n",
        "import cvxpy as cp\n",
        "import numpy as np\n",
        "\n"
      ],
      "execution_count": 0,
      "outputs": []
    },
    {
      "metadata": {
        "id": "YXMhF2-onCjr",
        "colab_type": "code",
        "colab": {
          "base_uri": "https://localhost:8080/",
          "height": 243
        },
        "outputId": "a983aae9-224e-40a0-a6da-d49c5c43b7a7"
      },
      "cell_type": "code",
      "source": [
        "# Datos\n",
        "R=40\n",
        "d3=30\n",
        "d2=170\n",
        "c=[1,3]\n",
        "\n",
        "p = cp.Variable(3)\n",
        "g= cp.Variable(2)\n",
        "cost = cp.sum(c*g)\n",
        "constraints = [ [1,0,0]*p+[-1,0]*g==0, [0,1,0]*p-[0,1]*g==-d2, -d3==[0,0,1]*p , [1,1,1]*p==0 , [0,1,-1]*p<= 3*R ,[0,-1,1]*p<= 3*R, g>=0 ]\n",
        "prob = cp.Problem(cp.Minimize(cost),constraints)\n",
        "prob.solve()\n",
        "\n",
        "print(\"El costo óptimo es\", prob.value)\n",
        "print(\"La generación óptima es, %s\" %g.value)\n",
        "\n",
        "print(\"Las inyecciones netas en las barras son, %s\" %p.value)\n",
        "print(p.value)\n",
        "\n",
        "p23=(p.value[1]-p.value[2])/3\n",
        "print(\"lambda_1=, %s\" %constraints[0].dual_value)\n",
        "print(\"lambda_2=, %s\" %constraints[1].dual_value)\n",
        "print(\"lambda_3=, %s\" %constraints[2].dual_value)\n",
        "print(\"p23 = %s\" %p23)\n",
        "print(\"nu, %s\" %constraints[3].dual_value)\n",
        "print(\"mu_{-}=, %s\" %constraints[4].dual_value)\n",
        "print(\"mu_{+}=, %s\" %constraints[5].dual_value)\n",
        "print(\"mu_{3}=, %s\" %constraints[6].dual_value)\n"
      ],
      "execution_count": 12,
      "outputs": [
        {
          "output_type": "stream",
          "text": [
            "El costo óptimo es 240.0\n",
            "La generación óptima es, [180.  20.]\n",
            "Las inyecciones netas en las barras son, [ 180. -150.  -30.]\n",
            "[ 180. -150.  -30.]\n",
            "lambda_1=, 1.0\n",
            "lambda_2=, 3.0\n",
            "lambda_3=, -0.9999999999999964\n",
            "p23 = -40.0\n",
            "nu, -1.0\n",
            "mu_{-}=, 0.0\n",
            "mu_{+}=, 2.000000000000014\n",
            "mu_{3}=, [0. 0.]\n"
          ],
          "name": "stdout"
        }
      ]
    }
  ]
}