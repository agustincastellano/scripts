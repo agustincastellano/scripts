{
  "nbformat": 4,
  "nbformat_minor": 0,
  "metadata": {
    "colab": {
      "name": "tresBarrasCVXPY.ipynb",
      "version": "0.3.2",
      "provenance": [],
      "include_colab_link": true
    },
    "kernelspec": {
      "name": "python3",
      "display_name": "Python 3"
    }
  },
  "cells": [
    {
      "cell_type": "markdown",
      "metadata": {
        "id": "view-in-github",
        "colab_type": "text"
      },
      "source": [
        "<a href=\"https://colab.research.google.com/github/opf-ute/scripts/blob/master/tresBarrasCVXPY.ipynb\" target=\"_parent\"><img src=\"https://colab.research.google.com/assets/colab-badge.svg\" alt=\"Open In Colab\"/></a>"
      ]
    },
    {
      "metadata": {
        "id": "EU1m59VBVIdC",
        "colab_type": "text"
      },
      "cell_type": "markdown",
      "source": [
        "\n",
        "# Primeros pasos con CVXPY\n",
        "Resolviendo mínimos cuadrados con [CVXPY](https://www.cvxpy.org/index.html).\n",
        "\n",
        "Fuente: [https://www.cvxpy.org/examples/basic/least_squares.html](https://www.cvxpy.org/examples/basic/least_squares.html)"
      ]
    },
    {
      "metadata": {
        "id": "4tLZzlM6YEnV",
        "colab_type": "text"
      },
      "cell_type": "markdown",
      "source": [
        ""
      ]
    },
    {
      "metadata": {
        "id": "qVIafmVHUukA",
        "colab_type": "code",
        "colab": {}
      },
      "cell_type": "code",
      "source": [
        "# Import packages.\n",
        "import cvxpy as cp\n",
        "import numpy as np\n",
        "\n"
      ],
      "execution_count": 0,
      "outputs": []
    },
    {
      "metadata": {
        "id": "fyHK-cAGeFGw",
        "colab_type": "text"
      },
      "cell_type": "markdown",
      "source": [
        "Se quiere resolver el problema de flujo óptimo con tres barras\n",
        "\n",
        "El problema de optimización que modela esta red es \n",
        "\n",
        "\n",
        "\\begin{align}\n",
        "\\min_{(\\mathbf p,\\mathbf g)}&  c_1 g_1 +c_2 g_2  \\\\\n",
        "\\textrm{sujeto a: }& p_1+p_3=g_1\\ &(\\lambda_1)\\\\\n",
        "& g_2+p_3+p_2=d_2& (\\lambda_2)\\\\\n",
        "&p_1-p_2 = d_3&  (\\lambda_3)\\\\\n",
        "&p_3-p_1-p_2=0&  (\\lambda_4)\\\\\n",
        "&|p_2|\\leq R&  (\\mu_{1},\\mu_{2})\\\\\n",
        "& g\\geq 0 &  (\\mu_{3}) \n",
        "\\end{align}\n",
        "\n",
        "\n",
        "donde $R=30MW$, $\\bar d_3=10MW$ y  $d_2$ se deja como parámetro del problema.\n",
        "\n"
      ]
    },
    {
      "metadata": {
        "id": "ej87u8yIhDbJ",
        "colab_type": "code",
        "colab": {
          "base_uri": "https://localhost:8080/",
          "height": 204
        },
        "outputId": "a80a0e32-c4a2-49ba-ae95-55ac97cc32c8"
      },
      "cell_type": "code",
      "source": [
        "\n",
        "# Datos\n",
        "R=30\n",
        "d3=20\n",
        "d2=180\n",
        "c=[1,4]\n",
        "\n",
        "p = cp.Variable(3)\n",
        "g= cp.Variable(2)\n",
        "cost = cp.sum_squares(c*g)\n",
        "constraints = [ [1,0,1]*p+[-1,0]*g==0, [0,1,1]*p+[0,1]*g==d2, d3==[1,-1,0]*p , [-1,-1,1]*p==0 , [0,1,0]*p<= R  ,[0,-1,0]*p<= R, g>=0   ]\n",
        "prob = cp.Problem(cp.Minimize(cost),constraints)\n",
        "prob.solve()\n",
        "\n",
        "print(\"El costo óptimo es\", prob.value)\n",
        "print(\"La generación óptima es, %s\" %g.value)\n",
        "\n",
        "print(\"El flujo correspondiente por las líneas es, %s\" %p.value)\n",
        "print(p.value)\n",
        "\n",
        "\n",
        "print(\"lambda_1=, %s\" %constraints[0].dual_value)\n",
        "print(\"lambda_2=, %s\" %constraints[1].dual_value)\n",
        "print(\"lambda_3=, %s\" %constraints[2].dual_value)\n",
        "print(\"lambda_4, %s\" %constraints[3].dual_value)\n",
        "print(\"mu_{1}=, %s\" %constraints[4].dual_value)\n",
        "print(\"mu_{2}=, %s\" %constraints[5].dual_value)\n",
        "print(\"mu_{3}=, %s\" %constraints[6].dual_value)\n",
        "\n",
        "\n",
        "\n",
        "\n"
      ],
      "execution_count": 25,
      "outputs": [
        {
          "output_type": "stream",
          "text": [
            "El costo óptimo es 168099.99999999907\n",
            "La generación óptima es, [130.  70.]\n",
            "El flujo correspondiente por las líneas es, [50. 30. 80.]\n",
            "[50. 30. 80.]\n",
            "lambda_1=, 819.9999999999977\n",
            "lambda_2=, -3279.999999999991\n",
            "lambda_3=, 1639.9999999999955\n",
            "lambda_4, 2459.999999999993\n",
            "mu_{1}=, 7379.99999999998\n",
            "mu_{2}=, 0.0\n",
            "mu_{3}=, [0. 0.]\n"
          ],
          "name": "stdout"
        }
      ]
    }
  ]
}