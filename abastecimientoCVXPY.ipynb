{
  "nbformat": 4,
  "nbformat_minor": 0,
  "metadata": {
    "colab": {
      "name": "abastecimientoCVXPY.ipynb",
      "version": "0.3.2",
      "provenance": [],
      "include_colab_link": true
    },
    "kernelspec": {
      "name": "python3",
      "display_name": "Python 3"
    }
  },
  "cells": [
    {
      "cell_type": "markdown",
      "metadata": {
        "id": "view-in-github",
        "colab_type": "text"
      },
      "source": [
        "<a href=\"https://colab.research.google.com/github/opf-ute/scripts/blob/master/abastecimientoCVXPY.ipynb\" target=\"_parent\"><img src=\"https://colab.research.google.com/assets/colab-badge.svg\" alt=\"Open In Colab\"/></a>"
      ]
    },
    {
      "metadata": {
        "id": "EU1m59VBVIdC",
        "colab_type": "text"
      },
      "cell_type": "markdown",
      "source": [
        "\n",
        "# Primeros pasos con CVXPY\n",
        "Resolviendo mínimos cuadrados con [CVXPY](https://www.cvxpy.org/index.html).\n",
        "\n",
        "Fuente: [https://www.cvxpy.org/examples/basic/least_squares.html](https://www.cvxpy.org/examples/basic/least_squares.html)"
      ]
    },
    {
      "metadata": {
        "id": "4tLZzlM6YEnV",
        "colab_type": "text"
      },
      "cell_type": "markdown",
      "source": [
        "# Least-squares\n",
        "\n",
        "In a least-squares, or linear regression, problem, we have measurements $A \\in \\mathcal{R}^{m \\times n}$ and $b \\in \\mathcal{R}^m$ and seek a vector $x \\in \\mathcal{R}^{n}$ such that $Ax$ is close to $b$. Closeness is defined as the sum of the squared differences:\n",
        "$$ \\sum_{i=1}^m (a_i^Tx - b_i)^2, $$\n",
        "also known as the $\\ell_2$-norm squared, $\\|Ax - b\\|_2^2$.\n",
        "\n",
        "For example, we might have a dataset of $m$ users, each represented by $n$ features. Each row $a_i^T$ of $A$ is the features for user $i$, while the corresponding entry $b_i$ of $b$ is the measurement we want to predict from $a_i^T$, such as ad spending. The prediction is given by $a_i^Tx$.\n",
        "\n",
        "We find the optimal $x$ by solving the optimization problem\n",
        "$$  \n",
        "   \\begin{array}{ll}\n",
        "     \\mbox{minimize}   & \\|Ax - b\\|_2^2.\n",
        "     \\end{array}\n",
        " $$\n",
        " Let $x^\\star$ denote the optimal $x$. The quantity $r = Ax^\\star - b$ is known as the residual. If $\\|r\\|_2 = 0$, we have a perfect fit.\n",
        "\n",
        "## Código\n",
        "\n",
        "In the following code, we solve a least-squares problem with CVXPY."
      ]
    },
    {
      "metadata": {
        "id": "qVIafmVHUukA",
        "colab_type": "code",
        "outputId": "1fa0d142-be85-4f93-ee39-d98ddf4171fe",
        "colab": {
          "base_uri": "https://localhost:8080/",
          "height": 103
        }
      },
      "cell_type": "code",
      "source": [
        "# Import packages.\n",
        "import cvxpy as cp\n",
        "import numpy as np\n",
        "\n",
        "# Generate data.\n",
        "n = 2\n",
        "D=10\n",
        "C=3\n",
        "# Define and solve the CVXPY problem.\n",
        "x = cp.Variable(n)\n",
        "cost = cp.sum_squares(x)\n",
        "constraints = [ x[1]+x[0]>=D, 0<=x, x[1]<=C]\n",
        "prob = cp.Problem(cp.Minimize(cost),constraints)\n",
        "prob.solve()\n",
        "\n",
        "# Print result.\n",
        "print(\"\\nThe optimal value is\", prob.value)\n",
        "print(\"The optimal x is\")\n",
        "print(x.value)\n",
        "print(constraints[0].dual_value)"
      ],
      "execution_count": 12,
      "outputs": [
        {
          "output_type": "stream",
          "text": [
            "\n",
            "The optimal value is 58.0\n",
            "The optimal x is\n",
            "[7. 3.]\n",
            "14.000000000000002\n"
          ],
          "name": "stdout"
        }
      ]
    }
  ]
}